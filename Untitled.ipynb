{
 "cells": [
  {
   "cell_type": "code",
   "execution_count": 1,
   "id": "fd33a13d-c7a0-44d1-bedf-11e4f082072b",
   "metadata": {},
   "outputs": [
    {
     "name": "stdout",
     "output_type": "stream",
     "text": [
      "{'action': '책 읽기', 'child_id': 'A101'}\n"
     ]
    }
   ],
   "source": [
    "import requests\n",
    "sequence = [[0.1] * 33 * 3] * 10\n",
    "res = requests.post(\"http://127.0.0.1:5000/predict\", json={\n",
    "    \"child_id\": \"A101\",\n",
    "    \"sequence\": sequence\n",
    "})\n",
    "print(res.json())\n"
   ]
  },
  {
   "cell_type": "code",
   "execution_count": 3,
   "id": "c43cfb1f-1a9b-49c0-8b6a-c1d82f772079",
   "metadata": {},
   "outputs": [
    {
     "name": "stdout",
     "output_type": "stream",
     "text": [
      "📨 응답: {'action': '책 읽기', 'child_id': 'A102'}\n"
     ]
    }
   ],
   "source": [
    "res = requests.post(\"http://127.0.0.1:5000/predict\", json={\n",
    "    \"child_id\": \"A102\",\n",
    "    \"sequence\": sequence  # 또는 play_sequence, book_sequence\n",
    "})\n",
    "print(\"📨 응답:\", res.json())\n"
   ]
  },
  {
   "cell_type": "code",
   "execution_count": null,
   "id": "3159e70f-5c4d-4b68-b2e5-40e69c0d3796",
   "metadata": {},
   "outputs": [],
   "source": []
  }
 ],
 "metadata": {
  "kernelspec": {
   "display_name": "Python 3 (ipykernel)",
   "language": "python",
   "name": "python3"
  },
  "language_info": {
   "codemirror_mode": {
    "name": "ipython",
    "version": 3
   },
   "file_extension": ".py",
   "mimetype": "text/x-python",
   "name": "python",
   "nbconvert_exporter": "python",
   "pygments_lexer": "ipython3",
   "version": "3.9.21"
  }
 },
 "nbformat": 4,
 "nbformat_minor": 5
}
